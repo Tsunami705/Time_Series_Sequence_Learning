{
 "cells": [
  {
   "cell_type": "markdown",
   "metadata": {},
   "source": [
    "# Problem 4:\n",
    "\n",
    "(8p)\n",
    "\n",
    "**a)** Consider the problem of one-step-ahead prediction for a time series $\\{y_t\\}_{t \\geq 1}$. The code cell below defines a three-layer Jordan-Elman RNN for solving this problem. Write out the mathematical expressions corresponding to this model, in terms of the hidden state variables, the state update equiations, and the output equations. Also, for all parameters in your model, specify their respective dimensions.\n",
    "<div style=\"text-align: right\"> (5p) </div>\n"
   ]
  },
  {
   "cell_type": "code",
   "execution_count": 1,
   "metadata": {},
   "outputs": [
    {
     "name": "stdout",
     "output_type": "stream",
     "text": [
      "Model: \"sequential\"\n",
      "_________________________________________________________________\n",
      " Layer (type)                Output Shape              Param #   \n",
      "=================================================================\n",
      " simple_rnn (SimpleRNN)      (None, None, 10)          120       \n",
      "                                                                 \n",
      " simple_rnn_1 (SimpleRNN)    (None, None, 15)          390       \n",
      "                                                                 \n",
      " simple_rnn_2 (SimpleRNN)    (None, None, 20)          720       \n",
      "                                                                 \n",
      " dense (Dense)               (None, None, 60)          1260      \n",
      "                                                                 \n",
      " dense_1 (Dense)             (None, None, 1)           61        \n",
      "                                                                 \n",
      "=================================================================\n",
      "Total params: 2,551\n",
      "Trainable params: 2,551\n",
      "Non-trainable params: 0\n",
      "_________________________________________________________________\n"
     ]
    }
   ],
   "source": [
    "from tensorflow import keras\n",
    "from tensorflow.keras import layers\n",
    "\n",
    "model = keras.Sequential([\n",
    "    layers.SimpleRNN(units = 10, input_shape=(None,1), return_sequences=True, activation='tanh'),\n",
    "    layers.SimpleRNN(units = 15, input_shape=(None,1), return_sequences=True, activation='tanh'),\n",
    "    layers.SimpleRNN(units = 20, input_shape=(None,1), return_sequences=True, activation='tanh'),\n",
    "    layers.Dense(units = 60, activation='relu'),\n",
    "    layers.Dense(units = 1, activation='linear')\n",
    "])\n",
    "\n",
    "model.summary()"
   ]
  },
  {
   "cell_type": "markdown",
   "metadata": {},
   "source": [
    "**Solution**"
   ]
  },
  {
   "cell_type": "markdown",
   "metadata": {},
   "source": [
    "$$h_t^{(1)}=\\sigma(W^{(1)}h^{(1)}_{t-1}+U^{(1)}y_{t-1}+b^{(1)})$$\n",
    "$$h_t^{(2)}=\\sigma(W^{(2)}h^{(2)}_{t-1}+U^{(2)}h_{t-1}^{(1)}+b^{(2)})$$\n",
    "$$h_t^{(3)}=\\sigma(W^{(3)}h^{(3)}_{t-1}+U^{(3)}h_{t-1}^{(2)}+b^{(3)})$$\n",
    "$$\\hat{y}_{t|t-1}=C*ReLU(W^{(4)}h_t^{(3)}+b^{(4)})+c$$\n",
    "\n",
    "## The parameters:\n",
    "\n",
    "### RNN Layer 1\n",
    "\n",
    "$W^{(1)}$ of size 10*10=100\n",
    "\n",
    "$U^{(1)}$ of size 10*1=10\n",
    "\n",
    "$b^{(1)}$ of size 10*1=10\n",
    "\n",
    "Total:120\n",
    "\n",
    "### RNN Layer 2\n",
    "\n",
    "$W^{(2)}$ of size 15*15=225\n",
    "\n",
    "$U^{(2)}$ of size 15*10=150\n",
    "\n",
    "$b^{(2)}$ of size 15*1=15\n",
    "\n",
    "Total:390\n",
    "\n",
    "### RNN Layer 3\n",
    "\n",
    "$W^{(3)}$ of size 20*20=400\n",
    "\n",
    "$U^{(3)}$ of size 20*15=300\n",
    "\n",
    "$b^{(3)}$ of size 20*1=20\n",
    "\n",
    "Total:720\n",
    "\n",
    "### Full Connection Layer 1\n",
    "\n",
    "$W^{(4)}$ of size 20*60=1200\n",
    "\n",
    "$b^{(4)}$ of size 60*1=60\n",
    "\n",
    "Total:1260\n",
    "\n",
    "### Full Connection Layer 2\n",
    "\n",
    "$C$ of size 60*1=60\n",
    "\n",
    "$c$ of size 1\n",
    "\n",
    "Total:61"
   ]
  },
  {
   "cell_type": "markdown",
   "metadata": {},
   "source": [
    "----"
   ]
  },
  {
   "cell_type": "markdown",
   "metadata": {},
   "source": [
    "**b)** When working with a **state-space model**,\n",
    "$$\n",
    "    \\begin{cases} \\alpha_t = T \\alpha_{t-1} + R \\eta_t, & \\eta_t \\sim \\mathcal{N}(0,Q), \\\\ y_t = Z \\alpha_t + \\varepsilon_t, & \\varepsilon_t \\sim \\mathcal{N}(0,H), \\end{cases}\n",
    "$$\n",
    "we are able to find equivivalent models. For instance if we set $\\tilde{\\alpha}_t = \\Gamma \\alpha_t$ where $\\Gamma$ is an invertible matrix. What is the equivivalent model in this case? When we say that the two models are equivivalent, what is it that is equivivalent?\n",
    "\n",
    "<div style=\"text-align: right\"> (3p) </div>\n",
    "\n",
    "**Solution**"
   ]
  },
  {
   "cell_type": "markdown",
   "metadata": {},
   "source": [
    "$\\alpha_t=\\Gamma^{-1}\\tilde{\\alpha_t}$, hence\n",
    "\n",
    "$\\tilde{\\alpha_t}=\\Gamma T \\Gamma^{-1} \\tilde{\\alpha_{t-1}}+\\Gamma R \\eta_t$, and\n",
    "\n",
    "$y_t=Z\\Gamma^{-1}\\tilde{\\alpha_t} + \\epsilon_t$\n",
    "\n",
    "Let $\\tilde{T} = \\Gamma T \\Gamma^{-1}$, $\\tilde{R}=\\Gamma R$, and $\\tilde{Z}=Z\\Gamma^{-1}$\n",
    "\n",
    "We have \n",
    "\n",
    "$$\n",
    "    \\begin{cases} \\tilde{\\alpha_t} = \\tilde{T} \\tilde{\\alpha_{t-1}} + \\tilde{R} \\eta_t, & \\eta_t \\sim \\mathcal{N}(0,Q), \\\\ y_t = \\tilde{Z} \\tilde{\\alpha_t} + \\varepsilon_t, & \\varepsilon_t \\sim \\mathcal{N}(0,H), \\end{cases}\n",
    "$$\n",
    "\n",
    "When we say that the two models are equivivalent, two different models have the same information fitting ability or predictive ability"
   ]
  }
 ],
 "metadata": {
  "kernelspec": {
   "display_name": "Python 3 (ipykernel)",
   "language": "python",
   "name": "python3"
  },
  "language_info": {
   "codemirror_mode": {
    "name": "ipython",
    "version": 3
   },
   "file_extension": ".py",
   "mimetype": "text/x-python",
   "name": "python",
   "nbconvert_exporter": "python",
   "pygments_lexer": "ipython3",
   "version": "3.10.9"
  }
 },
 "nbformat": 4,
 "nbformat_minor": 2
}
